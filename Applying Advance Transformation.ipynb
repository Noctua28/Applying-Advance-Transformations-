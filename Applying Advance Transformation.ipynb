{
 "cells": [
  {
   "cell_type": "code",
   "execution_count": 2,
   "id": "07652fef",
   "metadata": {},
   "outputs": [],
   "source": [
    "# Import necessary libraries\n",
    "import pandas as pd\n",
    "import numpy as np\n",
    "import json"
   ]
  },
  {
   "cell_type": "code",
   "execution_count": 3,
   "id": "bc6541ec",
   "metadata": {},
   "outputs": [],
   "source": [
    "# Load Datasets\n",
    "superhero_info = \"https://docs.google.com/spreadsheets/d/e/2PACX-1vS1ZstYLwFgwhZnqDsPjtnlHYhJp_cmW55J8JD5mym0seRsaem3px7QBtuFF0LiI7z1PLCkVKAkdO7J/pub?output=csv\"\n",
    "superhero_powers = \"https://docs.google.com/spreadsheets/d/e/2PACX-1vSzdWOBaXOoz52vPmCFV5idNlDBohLY1Lsbc1IfZIZQ7cV_aNB2wYBfhF49uE1TaO1B5MQCGWiNrFfd/pub?output=csv\"\n",
    "\n",
    "df1 = pd.read_csv(superhero_info)\n",
    "df2 = pd.read_csv(superhero_powers)"
   ]
  },
  {
   "cell_type": "code",
   "execution_count": 4,
   "id": "eeb5e2b0",
   "metadata": {},
   "outputs": [],
   "source": [
    "# Split 'Hero|Publisher' into two separate columns 'Hero' and 'Publisher'\n",
    "df1[['Hero', 'Publisher']] = df1['Hero|Publisher'].str.split('|', expand=True)"
   ]
  },
  {
   "cell_type": "markdown",
   "id": "1495ebf6",
   "metadata": {},
   "source": [
    "# Data Preparation"
   ]
  },
  {
   "cell_type": "code",
   "execution_count": 5,
   "id": "c22ee724",
   "metadata": {},
   "outputs": [],
   "source": [
    "# Convert 'Measurements' column from string representation of dictionary to actual dictionary\n",
    "df1['Measurements'] = df1['Measurements'].str.replace(\"'\", '\"').apply(json.loads)"
   ]
  },
  {
   "cell_type": "code",
   "execution_count": 6,
   "id": "d19471a1",
   "metadata": {},
   "outputs": [],
   "source": [
    "# Extract 'Height' and 'Weight' from 'Measurements' column and convert them to numeric\n",
    "df1['Height'] = df1['Measurements'].apply(lambda x: x['Height'].split(' ')[0]).astype(float)\n",
    "df1['Weight'] = df1['Measurements'].apply(lambda x: x['Weight'].split(' ')[0]).astype(float)"
   ]
  },
  {
   "cell_type": "code",
   "execution_count": 7,
   "id": "22e6882b",
   "metadata": {},
   "outputs": [],
   "source": [
    "# Drop the 'Hero|Publisher' and 'Measurements' columns as we don't need them anymore\n",
    "df1 = df1.drop(['Hero|Publisher', 'Measurements'], axis=1)"
   ]
  },
  {
   "cell_type": "code",
   "execution_count": 8,
   "id": "487f91f1",
   "metadata": {},
   "outputs": [],
   "source": [
    "# Rename 'hero_names' to 'Hero' in df2 to match df1\n",
    "df2.rename(columns={'hero_names': 'Hero'}, inplace=True)"
   ]
  },
  {
   "cell_type": "code",
   "execution_count": 9,
   "id": "94e664dd",
   "metadata": {},
   "outputs": [],
   "source": [
    "# Merge df1 and df2 on 'Hero'\n",
    "df = pd.merge(df1, df2, on='Hero')"
   ]
  },
  {
   "cell_type": "code",
   "execution_count": 10,
   "id": "7f67d4cb",
   "metadata": {},
   "outputs": [],
   "source": [
    "# Convert 'Powers' into separate one-hot-encoded columns\n",
    "powers_df = df['Powers'].str.get_dummies(sep=',')\n",
    "df = pd.concat([df, powers_df], axis=1)"
   ]
  },
  {
   "cell_type": "code",
   "execution_count": 11,
   "id": "367e6969",
   "metadata": {},
   "outputs": [],
   "source": [
    "# Drop the 'Powers' column as we don't need it anymore\n",
    "df = df.drop(['Powers'], axis=1)"
   ]
  },
  {
   "cell_type": "markdown",
   "id": "a34ec2e6",
   "metadata": {},
   "source": [
    "# Now to answer the questions:\n"
   ]
  },
  {
   "cell_type": "markdown",
   "id": "285b1011",
   "metadata": {},
   "source": [
    "# 1. Compare the average weight of superheroes who have Super Speed to those who do not."
   ]
  },
  {
   "cell_type": "code",
   "execution_count": 13,
   "id": "98ecd1ce",
   "metadata": {},
   "outputs": [
    {
     "name": "stdout",
     "output_type": "stream",
     "text": [
      "Average weight with Super Speed: 129.40404040404042\n",
      "Average weight without Super Speed: 101.77358490566037\n"
     ]
    }
   ],
   "source": [
    "avg_weight_with_superspeed = df[df['Super Speed'] == 1]['Weight'].mean()\n",
    "avg_weight_without_superspeed = df[df['Super Speed'] == 0]['Weight'].mean()\n",
    "\n",
    "print(f'Average weight with Super Speed: {avg_weight_with_superspeed}')\n",
    "print(f'Average weight without Super Speed: {avg_weight_without_superspeed}')"
   ]
  },
  {
   "cell_type": "markdown",
   "id": "443c6057",
   "metadata": {},
   "source": [
    "# 2. What is the average height of heroes for each publisher?"
   ]
  },
  {
   "cell_type": "code",
   "execution_count": 14,
   "id": "853c5a4e",
   "metadata": {},
   "outputs": [
    {
     "name": "stdout",
     "output_type": "stream",
     "text": [
      "Publisher\n",
      "DC Comics            181.923913\n",
      "Dark Horse Comics    176.909091\n",
      "George Lucas         159.600000\n",
      "Image Comics         211.000000\n",
      "Marvel Comics        191.546128\n",
      "Shueisha             171.500000\n",
      "Star Trek            181.500000\n",
      "Team Epic TV         180.750000\n",
      "Unknown              178.000000\n",
      "Name: Height, dtype: float64\n"
     ]
    }
   ],
   "source": [
    "avg_height_per_publisher = df.groupby('Publisher')['Height'].mean()\n",
    "print(avg_height_per_publisher)"
   ]
  }
 ],
 "metadata": {
  "kernelspec": {
   "display_name": "Python 3 (ipykernel)",
   "language": "python",
   "name": "python3"
  },
  "language_info": {
   "codemirror_mode": {
    "name": "ipython",
    "version": 3
   },
   "file_extension": ".py",
   "mimetype": "text/x-python",
   "name": "python",
   "nbconvert_exporter": "python",
   "pygments_lexer": "ipython3",
   "version": "3.9.15"
  },
  "toc": {
   "base_numbering": 1,
   "nav_menu": {},
   "number_sections": true,
   "sideBar": true,
   "skip_h1_title": false,
   "title_cell": "Table of Contents",
   "title_sidebar": "Contents",
   "toc_cell": false,
   "toc_position": {},
   "toc_section_display": true,
   "toc_window_display": false
  }
 },
 "nbformat": 4,
 "nbformat_minor": 5
}
