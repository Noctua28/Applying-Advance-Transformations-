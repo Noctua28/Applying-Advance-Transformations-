{
 "cells": [
  {
   "cell_type": "code",
   "execution_count": 29,
   "id": "301ff09a",
   "metadata": {},
   "outputs": [
    {
     "name": "stdout",
     "output_type": "stream",
     "text": [
      "Average weight with Super Speed: 129.40404040404042\n",
      "Average weight without Super Speed: 101.77358490566037\n",
      "Publisher\n",
      "DC Comics            181.923913\n",
      "Dark Horse Comics    176.909091\n",
      "George Lucas         159.600000\n",
      "Image Comics         211.000000\n",
      "Marvel Comics        191.546128\n",
      "Shueisha             171.500000\n",
      "Star Trek            181.500000\n",
      "Team Epic TV         180.750000\n",
      "Unknown              178.000000\n",
      "Name: Height, dtype: float64\n"
     ]
    }
   ],
   "source": [
    "# Import necessary libraries\n",
    "import pandas as pd\n",
    "import numpy as np\n",
    "import json\n",
    "\n",
    "# Load Datasets\n",
    "superhero_info = \"https://docs.google.com/spreadsheets/d/e/2PACX-1vS1ZstYLwFgwhZnqDsPjtnlHYhJp_cmW55J8JD5mym0seRsaem3px7QBtuFF0LiI7z1PLCkVKAkdO7J/pub?output=csv\"\n",
    "superhero_powers = \"https://docs.google.com/spreadsheets/d/e/2PACX-1vSzdWOBaXOoz52vPmCFV5idNlDBohLY1Lsbc1IfZIZQ7cV_aNB2wYBfhF49uE1TaO1B5MQCGWiNrFfd/pub?output=csv\"\n",
    "\n",
    "df1 = pd.read_csv(superhero_info)\n",
    "df2 = pd.read_csv(superhero_powers)\n",
    "\n",
    "# Split 'Hero|Publisher' into two separate columns 'Hero' and 'Publisher'\n",
    "df1[['Hero', 'Publisher']] = df1['Hero|Publisher'].str.split('|', expand=True)\n",
    "\n",
    "# Convert 'Measurements' column from string representation of dictionary to actual dictionary\n",
    "df1['Measurements'] = df1['Measurements'].str.replace(\"'\", '\"').apply(json.loads)\n",
    "\n",
    "# Extract 'Height' and 'Weight' from 'Measurements' column and convert them to numeric\n",
    "df1['Height'] = df1['Measurements'].apply(lambda x: x['Height'].split(' ')[0]).astype(float)\n",
    "df1['Weight'] = df1['Measurements'].apply(lambda x: x['Weight'].split(' ')[0]).astype(float)\n",
    "\n",
    "# Drop the 'Hero|Publisher' and 'Measurements' columns as we don't need them anymore\n",
    "df1 = df1.drop(['Hero|Publisher', 'Measurements'], axis=1)\n",
    "\n",
    "# Rename 'hero_names' to 'Hero' in df2 to match df1\n",
    "df2.rename(columns={'hero_names': 'Hero'}, inplace=True)\n",
    "\n",
    "# Merge df1 and df2 on 'Hero'\n",
    "df = pd.merge(df1, df2, on='Hero')\n",
    "\n",
    "# Convert 'Powers' into separate one-hot-encoded columns\n",
    "powers_df = df['Powers'].str.get_dummies(sep=',')\n",
    "df = pd.concat([df, powers_df], axis=1)\n",
    "\n",
    "# Drop the 'Powers' column as we don't need it anymore\n",
    "df = df.drop(['Powers'], axis=1)\n",
    "\n",
    "# Now you can answer the questions:\n",
    "# 1. Compare the average weight of superheroes who have Super Speed to those who do not.\n",
    "avg_weight_with_superspeed = df[df['Super Speed'] == 1]['Weight'].mean()\n",
    "avg_weight_without_superspeed = df[df['Super Speed'] == 0]['Weight'].mean()\n",
    "\n",
    "print(f'Average weight with Super Speed: {avg_weight_with_superspeed}')\n",
    "print(f'Average weight without Super Speed: {avg_weight_without_superspeed}')\n",
    "\n",
    "# 2. What is the average height of heroes for each publisher?\n",
    "avg_height_per_publisher = df.groupby('Publisher')['Height'].mean()\n",
    "print(avg_height_per_publisher)\n"
   ]
  }
 ],
 "metadata": {
  "kernelspec": {
   "display_name": "Python 3 (ipykernel)",
   "language": "python",
   "name": "python3"
  },
  "language_info": {
   "codemirror_mode": {
    "name": "ipython",
    "version": 3
   },
   "file_extension": ".py",
   "mimetype": "text/x-python",
   "name": "python",
   "nbconvert_exporter": "python",
   "pygments_lexer": "ipython3",
   "version": "3.9.15"
  },
  "toc": {
   "base_numbering": 1,
   "nav_menu": {},
   "number_sections": true,
   "sideBar": true,
   "skip_h1_title": false,
   "title_cell": "Table of Contents",
   "title_sidebar": "Contents",
   "toc_cell": false,
   "toc_position": {},
   "toc_section_display": true,
   "toc_window_display": false
  }
 },
 "nbformat": 4,
 "nbformat_minor": 5
}
